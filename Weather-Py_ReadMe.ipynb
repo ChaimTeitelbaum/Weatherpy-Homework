{
 "cells": [
  {
   "cell_type": "markdown",
   "metadata": {},
   "source": [
    "# Weatherpy Analysis\n",
    "\n",
    "### Facts\n",
    "Latitude helps predict temperature, but shows no relation to humidity, clouds, and/or wind speed in a city.\n",
    "\n",
    "The only prediction is temperature vs latitude plot shows temperatures rises closer to the equator.\n",
    "\n",
    "Clouds and humidity are consistent troughout the latitude degree levels.\n",
    "\n",
    "### |Conclusion\n",
    "Additional data and analysis is needed to find a probable relation between latitude and cloudiness and/or humidity."
   ]
  }
 ],
 "metadata": {
  "kernelspec": {
   "display_name": "Python 3",
   "language": "python",
   "name": "python3"
  },
  "language_info": {
   "codemirror_mode": {
    "name": "ipython",
    "version": 3
   },
   "file_extension": ".py",
   "mimetype": "text/x-python",
   "name": "python",
   "nbconvert_exporter": "python",
   "pygments_lexer": "ipython3",
   "version": "3.7.3"
  }
 },
 "nbformat": 4,
 "nbformat_minor": 2
}
